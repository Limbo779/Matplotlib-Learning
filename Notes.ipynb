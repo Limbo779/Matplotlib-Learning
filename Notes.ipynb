{
 "cells": [
  {
   "cell_type": "code",
   "execution_count": 3,
   "id": "59674db8",
   "metadata": {},
   "outputs": [],
   "source": [
    "import matplotlib\n",
    "import matplotlib.pyplot as plt\n",
    "import numpy as np "
   ]
  },
  {
   "cell_type": "markdown",
   "id": "9fbd7819",
   "metadata": {},
   "source": [
    "Lets get to know a little anatomy of matplotlib"
   ]
  },
  {
   "cell_type": "markdown",
   "id": "1cb91722",
   "metadata": {},
   "source": [
    "![plot](plt11.png)"
   ]
  },
  {
   "cell_type": "markdown",
   "id": "0f5ad4ee",
   "metadata": {},
   "source": [
    "<u>Figure</u>:\n",
    "\n",
    "The Whole image above is figure\n",
    "\n",
    "<u>Axes</u>:\n",
    "\n",
    "Axes is part of the graph without the plotting \n",
    "it contain title and the label for the axis\n",
    "\n",
    "I hope you can figure the rest\n"
   ]
  },
  {
   "cell_type": "code",
   "execution_count": null,
   "id": "662e28b3",
   "metadata": {},
   "outputs": [
    {
     "data": {
      "text/plain": [
       "False"
      ]
     },
     "execution_count": 4,
     "metadata": {},
     "output_type": "execute_result"
    }
   ],
   "source": [
    "# there are two mode in which matplotlib works 1.) Interactive 2.) Non Interactive\n",
    "# in non interactive graph won't be plotted untill explicitely asked\n",
    "\n",
    "matplotlib.is_interactive() # this will check whether the mode is interactivr or not"
   ]
  }
 ],
 "metadata": {
  "kernelspec": {
   "display_name": "kernel",
   "language": "python",
   "name": "kernel"
  },
  "language_info": {
   "codemirror_mode": {
    "name": "ipython",
    "version": 3
   },
   "file_extension": ".py",
   "mimetype": "text/x-python",
   "name": "python",
   "nbconvert_exporter": "python",
   "pygments_lexer": "ipython3",
   "version": "3.12.11"
  }
 },
 "nbformat": 4,
 "nbformat_minor": 5
}
